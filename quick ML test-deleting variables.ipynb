{
 "cells": [
  {
   "cell_type": "code",
   "execution_count": 1,
   "metadata": {},
   "outputs": [],
   "source": [
    "import pandas as pd\n",
    "from sklearn.preprocessing import StandardScaler\n",
    "from sklearn.model_selection import train_test_split\n",
    "from sklearn.metrics import roc_curve, auc\n",
    "from sklearn.linear_model import LogisticRegression\n",
    "from sklearn.metrics import classification_report\n",
    "from sklearn.decomposition import PCA\n",
    "from sklearn.pipeline import Pipeline\n",
    "from sklearn.ensemble import RandomForestClassifier\n",
    "from sklearn.model_selection import GridSearchCV\n",
    "from sklearn.metrics import confusion_matrix, f1_score, precision_recall_fscore_support\n",
    "import matplotlib.pyplot as plt\n",
    "import itertools\n",
    "import time\n",
    "import numpy as np\n",
    "from matplotlib import pyplot\n"
   ]
  },
  {
   "cell_type": "code",
   "execution_count": 2,
   "metadata": {
    "scrolled": true
   },
   "outputs": [
    {
     "name": "stderr",
     "output_type": "stream",
     "text": [
      "/Users/laurentvanhassel/anaconda3/lib/python3.8/site-packages/numpy/lib/arraysetops.py:569: FutureWarning: elementwise comparison failed; returning scalar instead, but in the future will perform elementwise comparison\n",
      "  mask |= (ar1 == a)\n"
     ]
    },
    {
     "data": {
      "text/html": [
       "<div>\n",
       "<style scoped>\n",
       "    .dataframe tbody tr th:only-of-type {\n",
       "        vertical-align: middle;\n",
       "    }\n",
       "\n",
       "    .dataframe tbody tr th {\n",
       "        vertical-align: top;\n",
       "    }\n",
       "\n",
       "    .dataframe thead th {\n",
       "        text-align: right;\n",
       "    }\n",
       "</style>\n",
       "<table border=\"1\" class=\"dataframe\">\n",
       "  <thead>\n",
       "    <tr style=\"text-align: right;\">\n",
       "      <th></th>\n",
       "      <th>backers_count</th>\n",
       "      <th>category</th>\n",
       "      <th>country_displayable_name</th>\n",
       "      <th>created_at</th>\n",
       "      <th>deadline</th>\n",
       "      <th>goal</th>\n",
       "      <th>launched_at</th>\n",
       "      <th>pledged</th>\n",
       "      <th>staff_pick</th>\n",
       "      <th>state</th>\n",
       "      <th>...</th>\n",
       "      <th>sub_category</th>\n",
       "      <th>blurb_length</th>\n",
       "      <th>launch_to_deadline</th>\n",
       "      <th>creation_to_launch</th>\n",
       "      <th>launch_day</th>\n",
       "      <th>deadline_day</th>\n",
       "      <th>launch_month</th>\n",
       "      <th>deadline_month</th>\n",
       "      <th>launch_time</th>\n",
       "      <th>deadline_time</th>\n",
       "    </tr>\n",
       "    <tr>\n",
       "      <th>Unnamed: 0</th>\n",
       "      <th></th>\n",
       "      <th></th>\n",
       "      <th></th>\n",
       "      <th></th>\n",
       "      <th></th>\n",
       "      <th></th>\n",
       "      <th></th>\n",
       "      <th></th>\n",
       "      <th></th>\n",
       "      <th></th>\n",
       "      <th></th>\n",
       "      <th></th>\n",
       "      <th></th>\n",
       "      <th></th>\n",
       "      <th></th>\n",
       "      <th></th>\n",
       "      <th></th>\n",
       "      <th></th>\n",
       "      <th></th>\n",
       "      <th></th>\n",
       "      <th></th>\n",
       "    </tr>\n",
       "  </thead>\n",
       "  <tbody>\n",
       "    <tr>\n",
       "      <th>0</th>\n",
       "      <td>3</td>\n",
       "      <td>food</td>\n",
       "      <td>the United States</td>\n",
       "      <td>2014-08-30 01:10:21</td>\n",
       "      <td>2014-10-02 15:44:07</td>\n",
       "      <td>400.0</td>\n",
       "      <td>2014-09-02 15:44:07</td>\n",
       "      <td>15.0</td>\n",
       "      <td>False</td>\n",
       "      <td>failed</td>\n",
       "      <td>...</td>\n",
       "      <td>small batch</td>\n",
       "      <td>28.0</td>\n",
       "      <td>30</td>\n",
       "      <td>3</td>\n",
       "      <td>Tuesday</td>\n",
       "      <td>Thursday</td>\n",
       "      <td>September</td>\n",
       "      <td>October</td>\n",
       "      <td>2pm-4pm</td>\n",
       "      <td>2pm-4pm</td>\n",
       "    </tr>\n",
       "    <tr>\n",
       "      <th>1</th>\n",
       "      <td>6</td>\n",
       "      <td>technology</td>\n",
       "      <td>the United Kingdom</td>\n",
       "      <td>2015-02-18 17:15:56</td>\n",
       "      <td>2015-03-20 20:59:26</td>\n",
       "      <td>200.0</td>\n",
       "      <td>2015-02-18 21:59:26</td>\n",
       "      <td>28.0</td>\n",
       "      <td>False</td>\n",
       "      <td>failed</td>\n",
       "      <td>...</td>\n",
       "      <td>software</td>\n",
       "      <td>22.0</td>\n",
       "      <td>29</td>\n",
       "      <td>0</td>\n",
       "      <td>Wednesday</td>\n",
       "      <td>Friday</td>\n",
       "      <td>February</td>\n",
       "      <td>March</td>\n",
       "      <td>8pm-10pm</td>\n",
       "      <td>8pm-10pm</td>\n",
       "    </tr>\n",
       "    <tr>\n",
       "      <th>2</th>\n",
       "      <td>90</td>\n",
       "      <td>photography</td>\n",
       "      <td>the United States</td>\n",
       "      <td>2018-07-28 02:07:21</td>\n",
       "      <td>2018-08-27 13:18:38</td>\n",
       "      <td>2500.0</td>\n",
       "      <td>2018-07-28 13:18:38</td>\n",
       "      <td>4350.0</td>\n",
       "      <td>False</td>\n",
       "      <td>successful</td>\n",
       "      <td>...</td>\n",
       "      <td>photobooks</td>\n",
       "      <td>18.0</td>\n",
       "      <td>30</td>\n",
       "      <td>0</td>\n",
       "      <td>Saturday</td>\n",
       "      <td>Monday</td>\n",
       "      <td>July</td>\n",
       "      <td>August</td>\n",
       "      <td>12pm-2pm</td>\n",
       "      <td>12pm-2pm</td>\n",
       "    </tr>\n",
       "    <tr>\n",
       "      <th>3</th>\n",
       "      <td>205</td>\n",
       "      <td>photography</td>\n",
       "      <td>the United Kingdom</td>\n",
       "      <td>2018-02-10 14:42:07</td>\n",
       "      <td>2018-04-05 06:42:32</td>\n",
       "      <td>9500.0</td>\n",
       "      <td>2018-03-06 07:42:32</td>\n",
       "      <td>10181.0</td>\n",
       "      <td>False</td>\n",
       "      <td>successful</td>\n",
       "      <td>...</td>\n",
       "      <td>photobooks</td>\n",
       "      <td>19.0</td>\n",
       "      <td>29</td>\n",
       "      <td>23</td>\n",
       "      <td>Tuesday</td>\n",
       "      <td>Thursday</td>\n",
       "      <td>March</td>\n",
       "      <td>April</td>\n",
       "      <td>6am-8am</td>\n",
       "      <td>6am-8am</td>\n",
       "    </tr>\n",
       "    <tr>\n",
       "      <th>4</th>\n",
       "      <td>35</td>\n",
       "      <td>art</td>\n",
       "      <td>the United States</td>\n",
       "      <td>2012-07-25 23:21:04</td>\n",
       "      <td>2012-09-11 03:59:00</td>\n",
       "      <td>4000.0</td>\n",
       "      <td>2012-08-27 20:40:13</td>\n",
       "      <td>4254.0</td>\n",
       "      <td>False</td>\n",
       "      <td>successful</td>\n",
       "      <td>...</td>\n",
       "      <td>public art</td>\n",
       "      <td>25.0</td>\n",
       "      <td>14</td>\n",
       "      <td>32</td>\n",
       "      <td>Monday</td>\n",
       "      <td>Tuesday</td>\n",
       "      <td>August</td>\n",
       "      <td>September</td>\n",
       "      <td>8pm-10pm</td>\n",
       "      <td>2am-4am</td>\n",
       "    </tr>\n",
       "  </tbody>\n",
       "</table>\n",
       "<p>5 rows × 21 columns</p>\n",
       "</div>"
      ],
      "text/plain": [
       "            backers_count     category country_displayable_name  \\\n",
       "Unnamed: 0                                                        \n",
       "0                       3         food        the United States   \n",
       "1                       6   technology       the United Kingdom   \n",
       "2                      90  photography        the United States   \n",
       "3                     205  photography       the United Kingdom   \n",
       "4                      35          art        the United States   \n",
       "\n",
       "                     created_at             deadline    goal  \\\n",
       "Unnamed: 0                                                     \n",
       "0           2014-08-30 01:10:21  2014-10-02 15:44:07   400.0   \n",
       "1           2015-02-18 17:15:56  2015-03-20 20:59:26   200.0   \n",
       "2           2018-07-28 02:07:21  2018-08-27 13:18:38  2500.0   \n",
       "3           2018-02-10 14:42:07  2018-04-05 06:42:32  9500.0   \n",
       "4           2012-07-25 23:21:04  2012-09-11 03:59:00  4000.0   \n",
       "\n",
       "                    launched_at  pledged  staff_pick       state  ...  \\\n",
       "Unnamed: 0                                                        ...   \n",
       "0           2014-09-02 15:44:07     15.0       False      failed  ...   \n",
       "1           2015-02-18 21:59:26     28.0       False      failed  ...   \n",
       "2           2018-07-28 13:18:38   4350.0       False  successful  ...   \n",
       "3           2018-03-06 07:42:32  10181.0       False  successful  ...   \n",
       "4           2012-08-27 20:40:13   4254.0       False  successful  ...   \n",
       "\n",
       "            sub_category blurb_length  launch_to_deadline  creation_to_launch  \\\n",
       "Unnamed: 0                                                                      \n",
       "0            small batch         28.0                  30                   3   \n",
       "1               software         22.0                  29                   0   \n",
       "2             photobooks         18.0                  30                   0   \n",
       "3             photobooks         19.0                  29                  23   \n",
       "4             public art         25.0                  14                  32   \n",
       "\n",
       "            launch_day deadline_day launch_month deadline_month launch_time  \\\n",
       "Unnamed: 0                                                                    \n",
       "0              Tuesday     Thursday    September        October     2pm-4pm   \n",
       "1            Wednesday       Friday     February          March    8pm-10pm   \n",
       "2             Saturday       Monday         July         August    12pm-2pm   \n",
       "3              Tuesday     Thursday        March          April     6am-8am   \n",
       "4               Monday      Tuesday       August      September    8pm-10pm   \n",
       "\n",
       "           deadline_time  \n",
       "Unnamed: 0                \n",
       "0                2pm-4pm  \n",
       "1               8pm-10pm  \n",
       "2               12pm-2pm  \n",
       "3                6am-8am  \n",
       "4                2am-4am  \n",
       "\n",
       "[5 rows x 21 columns]"
      ]
     },
     "execution_count": 2,
     "metadata": {},
     "output_type": "execute_result"
    }
   ],
   "source": [
    "df = pd.read_csv('../classwork/Kickstarter_Campaigns/data/latest_data.csv',index_col='Unnamed: 0')\n",
    "df.head()"
   ]
  },
  {
   "cell_type": "code",
   "execution_count": 3,
   "metadata": {},
   "outputs": [],
   "source": [
    "df = df.drop(columns=['created_at', 'deadline','launched_at','backers_count','pledged','usd_pledged','staff_pick','sub_category','creation_to_launch','launch_day','deadline_day','launch_month','deadline_month','launch_time','deadline_time','launch_to_deadline','category','country_displayable_name'])\n",
    "# df = df.drop(columns=['created_at', 'deadline','launched_at','backers_count','pledged','usd_pledged','sub_category'])"
   ]
  },
  {
   "cell_type": "code",
   "execution_count": 4,
   "metadata": {},
   "outputs": [
    {
     "data": {
      "text/plain": [
       "2359293"
      ]
     },
     "execution_count": 4,
     "metadata": {},
     "output_type": "execute_result"
    }
   ],
   "source": [
    "df.state.count()"
   ]
  },
  {
   "cell_type": "code",
   "execution_count": 5,
   "metadata": {},
   "outputs": [],
   "source": [
    "df = df[df.goal >= 1000]"
   ]
  },
  {
   "cell_type": "code",
   "execution_count": 6,
   "metadata": {},
   "outputs": [],
   "source": [
    "#df = df.sample(frac=0.7)\n",
    "df = df.sample(n=250000)"
   ]
  },
  {
   "cell_type": "code",
   "execution_count": 7,
   "metadata": {
    "scrolled": true
   },
   "outputs": [
    {
     "data": {
      "text/html": [
       "<div>\n",
       "<style scoped>\n",
       "    .dataframe tbody tr th:only-of-type {\n",
       "        vertical-align: middle;\n",
       "    }\n",
       "\n",
       "    .dataframe tbody tr th {\n",
       "        vertical-align: top;\n",
       "    }\n",
       "\n",
       "    .dataframe thead th {\n",
       "        text-align: right;\n",
       "    }\n",
       "</style>\n",
       "<table border=\"1\" class=\"dataframe\">\n",
       "  <thead>\n",
       "    <tr style=\"text-align: right;\">\n",
       "      <th></th>\n",
       "      <th>goal</th>\n",
       "      <th>blurb_length</th>\n",
       "    </tr>\n",
       "  </thead>\n",
       "  <tbody>\n",
       "    <tr>\n",
       "      <th>count</th>\n",
       "      <td>2.500000e+05</td>\n",
       "      <td>250000.000000</td>\n",
       "    </tr>\n",
       "    <tr>\n",
       "      <th>mean</th>\n",
       "      <td>5.674077e+04</td>\n",
       "      <td>18.462776</td>\n",
       "    </tr>\n",
       "    <tr>\n",
       "      <th>std</th>\n",
       "      <td>1.266311e+06</td>\n",
       "      <td>5.235342</td>\n",
       "    </tr>\n",
       "    <tr>\n",
       "      <th>min</th>\n",
       "      <td>1.000000e+03</td>\n",
       "      <td>0.000000</td>\n",
       "    </tr>\n",
       "    <tr>\n",
       "      <th>25%</th>\n",
       "      <td>3.000000e+03</td>\n",
       "      <td>16.000000</td>\n",
       "    </tr>\n",
       "    <tr>\n",
       "      <th>50%</th>\n",
       "      <td>6.270000e+03</td>\n",
       "      <td>20.000000</td>\n",
       "    </tr>\n",
       "    <tr>\n",
       "      <th>75%</th>\n",
       "      <td>1.800000e+04</td>\n",
       "      <td>22.000000</td>\n",
       "    </tr>\n",
       "    <tr>\n",
       "      <th>max</th>\n",
       "      <td>1.000000e+08</td>\n",
       "      <td>35.000000</td>\n",
       "    </tr>\n",
       "  </tbody>\n",
       "</table>\n",
       "</div>"
      ],
      "text/plain": [
       "               goal   blurb_length\n",
       "count  2.500000e+05  250000.000000\n",
       "mean   5.674077e+04      18.462776\n",
       "std    1.266311e+06       5.235342\n",
       "min    1.000000e+03       0.000000\n",
       "25%    3.000000e+03      16.000000\n",
       "50%    6.270000e+03      20.000000\n",
       "75%    1.800000e+04      22.000000\n",
       "max    1.000000e+08      35.000000"
      ]
     },
     "execution_count": 7,
     "metadata": {},
     "output_type": "execute_result"
    }
   ],
   "source": [
    "df.describe()"
   ]
  },
  {
   "cell_type": "code",
   "execution_count": 8,
   "metadata": {},
   "outputs": [
    {
     "data": {
      "text/plain": [
       "250000"
      ]
     },
     "execution_count": 8,
     "metadata": {},
     "output_type": "execute_result"
    }
   ],
   "source": [
    "df.state.count()"
   ]
  },
  {
   "cell_type": "code",
   "execution_count": 9,
   "metadata": {},
   "outputs": [
    {
     "data": {
      "text/plain": [
       "successful    147813\n",
       "failed        102187\n",
       "Name: state, dtype: int64"
      ]
     },
     "execution_count": 9,
     "metadata": {},
     "output_type": "execute_result"
    }
   ],
   "source": [
    "df['state'].value_counts()"
   ]
  },
  {
   "cell_type": "code",
   "execution_count": 10,
   "metadata": {
    "scrolled": true
   },
   "outputs": [
    {
     "data": {
      "text/html": [
       "<div>\n",
       "<style scoped>\n",
       "    .dataframe tbody tr th:only-of-type {\n",
       "        vertical-align: middle;\n",
       "    }\n",
       "\n",
       "    .dataframe tbody tr th {\n",
       "        vertical-align: top;\n",
       "    }\n",
       "\n",
       "    .dataframe thead th {\n",
       "        text-align: right;\n",
       "    }\n",
       "</style>\n",
       "<table border=\"1\" class=\"dataframe\">\n",
       "  <thead>\n",
       "    <tr style=\"text-align: right;\">\n",
       "      <th></th>\n",
       "      <th>goal</th>\n",
       "      <th>state</th>\n",
       "      <th>blurb_length</th>\n",
       "    </tr>\n",
       "    <tr>\n",
       "      <th>Unnamed: 0</th>\n",
       "      <th></th>\n",
       "      <th></th>\n",
       "      <th></th>\n",
       "    </tr>\n",
       "  </thead>\n",
       "  <tbody>\n",
       "    <tr>\n",
       "      <th>2480407</th>\n",
       "      <td>3500.0</td>\n",
       "      <td>successful</td>\n",
       "      <td>16.0</td>\n",
       "    </tr>\n",
       "    <tr>\n",
       "      <th>2267745</th>\n",
       "      <td>5300.0</td>\n",
       "      <td>failed</td>\n",
       "      <td>24.0</td>\n",
       "    </tr>\n",
       "    <tr>\n",
       "      <th>1694985</th>\n",
       "      <td>65000.0</td>\n",
       "      <td>failed</td>\n",
       "      <td>5.0</td>\n",
       "    </tr>\n",
       "    <tr>\n",
       "      <th>1296486</th>\n",
       "      <td>1500.0</td>\n",
       "      <td>successful</td>\n",
       "      <td>20.0</td>\n",
       "    </tr>\n",
       "    <tr>\n",
       "      <th>1724065</th>\n",
       "      <td>5000.0</td>\n",
       "      <td>successful</td>\n",
       "      <td>18.0</td>\n",
       "    </tr>\n",
       "    <tr>\n",
       "      <th>...</th>\n",
       "      <td>...</td>\n",
       "      <td>...</td>\n",
       "      <td>...</td>\n",
       "    </tr>\n",
       "    <tr>\n",
       "      <th>979611</th>\n",
       "      <td>6800.0</td>\n",
       "      <td>successful</td>\n",
       "      <td>21.0</td>\n",
       "    </tr>\n",
       "    <tr>\n",
       "      <th>103485</th>\n",
       "      <td>3500.0</td>\n",
       "      <td>successful</td>\n",
       "      <td>15.0</td>\n",
       "    </tr>\n",
       "    <tr>\n",
       "      <th>1375565</th>\n",
       "      <td>2350.0</td>\n",
       "      <td>successful</td>\n",
       "      <td>24.0</td>\n",
       "    </tr>\n",
       "    <tr>\n",
       "      <th>351730</th>\n",
       "      <td>5000.0</td>\n",
       "      <td>successful</td>\n",
       "      <td>22.0</td>\n",
       "    </tr>\n",
       "    <tr>\n",
       "      <th>1943370</th>\n",
       "      <td>2000.0</td>\n",
       "      <td>successful</td>\n",
       "      <td>11.0</td>\n",
       "    </tr>\n",
       "  </tbody>\n",
       "</table>\n",
       "<p>250000 rows × 3 columns</p>\n",
       "</div>"
      ],
      "text/plain": [
       "               goal       state  blurb_length\n",
       "Unnamed: 0                                   \n",
       "2480407      3500.0  successful          16.0\n",
       "2267745      5300.0      failed          24.0\n",
       "1694985     65000.0      failed           5.0\n",
       "1296486      1500.0  successful          20.0\n",
       "1724065      5000.0  successful          18.0\n",
       "...             ...         ...           ...\n",
       "979611       6800.0  successful          21.0\n",
       "103485       3500.0  successful          15.0\n",
       "1375565      2350.0  successful          24.0\n",
       "351730       5000.0  successful          22.0\n",
       "1943370      2000.0  successful          11.0\n",
       "\n",
       "[250000 rows x 3 columns]"
      ]
     },
     "execution_count": 10,
     "metadata": {},
     "output_type": "execute_result"
    }
   ],
   "source": [
    "df"
   ]
  },
  {
   "cell_type": "code",
   "execution_count": 11,
   "metadata": {},
   "outputs": [],
   "source": [
    "# Import our dependencies\n",
    "from sklearn.model_selection import train_test_split\n",
    "from sklearn.preprocessing import StandardScaler\n",
    "from sklearn.ensemble import RandomForestClassifier\n",
    "from sklearn.metrics import accuracy_score\n",
    "from sklearn.preprocessing import OneHotEncoder\n",
    "import pandas as pd\n",
    "import tensorflow as tf\n",
    "import numpy as np"
   ]
  },
  {
   "cell_type": "code",
   "execution_count": 12,
   "metadata": {},
   "outputs": [],
   "source": [
    "# cate_counts = df.launch_time.value_counts()\n",
    "# cate_counts"
   ]
  },
  {
   "cell_type": "code",
   "execution_count": 13,
   "metadata": {},
   "outputs": [
    {
     "data": {
      "text/plain": [
       "goal            float64\n",
       "state            object\n",
       "blurb_length    float64\n",
       "dtype: object"
      ]
     },
     "execution_count": 13,
     "metadata": {},
     "output_type": "execute_result"
    }
   ],
   "source": [
    "df.dtypes"
   ]
  },
  {
   "cell_type": "code",
   "execution_count": 14,
   "metadata": {},
   "outputs": [],
   "source": [
    "# need to convert bool to str\n",
    "# df['staff_pick'] = df['staff_pick'].astype(str)\n",
    "# df"
   ]
  },
  {
   "cell_type": "code",
   "execution_count": 15,
   "metadata": {},
   "outputs": [],
   "source": [
    "df['state'] = df['state'].replace({'failed': 0, 'successful': 1})"
   ]
  },
  {
   "cell_type": "code",
   "execution_count": 16,
   "metadata": {
    "scrolled": true
   },
   "outputs": [
    {
     "data": {
      "text/plain": [
       "Series([], dtype: float64)"
      ]
     },
     "execution_count": 16,
     "metadata": {},
     "output_type": "execute_result"
    }
   ],
   "source": [
    "# Generate our categorical variable list\n",
    "df_object = df.dtypes[df.dtypes == \"object\"].index.tolist()\n",
    "\n",
    "# Check the number of unique values in each column\n",
    "df[df_object].nunique()\n",
    "# we can see that NAME, APPLICATION_TYPE, CLASSIFICATION will all be issues\n",
    "\n"
   ]
  },
  {
   "cell_type": "code",
   "execution_count": 17,
   "metadata": {},
   "outputs": [
    {
     "data": {
      "text/html": [
       "<div>\n",
       "<style scoped>\n",
       "    .dataframe tbody tr th:only-of-type {\n",
       "        vertical-align: middle;\n",
       "    }\n",
       "\n",
       "    .dataframe tbody tr th {\n",
       "        vertical-align: top;\n",
       "    }\n",
       "\n",
       "    .dataframe thead th {\n",
       "        text-align: right;\n",
       "    }\n",
       "</style>\n",
       "<table border=\"1\" class=\"dataframe\">\n",
       "  <thead>\n",
       "    <tr style=\"text-align: right;\">\n",
       "      <th></th>\n",
       "    </tr>\n",
       "  </thead>\n",
       "  <tbody>\n",
       "    <tr>\n",
       "      <th>0</th>\n",
       "    </tr>\n",
       "    <tr>\n",
       "      <th>1</th>\n",
       "    </tr>\n",
       "    <tr>\n",
       "      <th>2</th>\n",
       "    </tr>\n",
       "    <tr>\n",
       "      <th>3</th>\n",
       "    </tr>\n",
       "    <tr>\n",
       "      <th>4</th>\n",
       "    </tr>\n",
       "  </tbody>\n",
       "</table>\n",
       "</div>"
      ],
      "text/plain": [
       "Empty DataFrame\n",
       "Columns: []\n",
       "Index: [0, 1, 2, 3, 4]"
      ]
     },
     "execution_count": 17,
     "metadata": {},
     "output_type": "execute_result"
    }
   ],
   "source": [
    "# Create a OneHotEncoder instance\n",
    "enc = OneHotEncoder(sparse=False)\n",
    "\n",
    "# Fit and transform the OneHotEncoder using the categorical variable list\n",
    "encode_df = pd.DataFrame(enc.fit_transform(df[df_object]))\n",
    "\n",
    "# Add the encoded variable names to the DataFrame\n",
    "encode_df.columns = enc.get_feature_names(df_object)\n",
    "encode_df.head()"
   ]
  },
  {
   "cell_type": "code",
   "execution_count": 18,
   "metadata": {},
   "outputs": [
    {
     "data": {
      "text/html": [
       "<div>\n",
       "<style scoped>\n",
       "    .dataframe tbody tr th:only-of-type {\n",
       "        vertical-align: middle;\n",
       "    }\n",
       "\n",
       "    .dataframe tbody tr th {\n",
       "        vertical-align: top;\n",
       "    }\n",
       "\n",
       "    .dataframe thead th {\n",
       "        text-align: right;\n",
       "    }\n",
       "</style>\n",
       "<table border=\"1\" class=\"dataframe\">\n",
       "  <thead>\n",
       "    <tr style=\"text-align: right;\">\n",
       "      <th></th>\n",
       "      <th>goal</th>\n",
       "      <th>state</th>\n",
       "      <th>blurb_length</th>\n",
       "    </tr>\n",
       "  </thead>\n",
       "  <tbody>\n",
       "    <tr>\n",
       "      <th>141967</th>\n",
       "      <td>1500.0</td>\n",
       "      <td>1</td>\n",
       "      <td>11.0</td>\n",
       "    </tr>\n",
       "    <tr>\n",
       "      <th>212874</th>\n",
       "      <td>6500.0</td>\n",
       "      <td>0</td>\n",
       "      <td>13.0</td>\n",
       "    </tr>\n",
       "    <tr>\n",
       "      <th>164730</th>\n",
       "      <td>8000.0</td>\n",
       "      <td>1</td>\n",
       "      <td>15.0</td>\n",
       "    </tr>\n",
       "    <tr>\n",
       "      <th>175347</th>\n",
       "      <td>2500.0</td>\n",
       "      <td>1</td>\n",
       "      <td>20.0</td>\n",
       "    </tr>\n",
       "    <tr>\n",
       "      <th>234977</th>\n",
       "      <td>40000.0</td>\n",
       "      <td>0</td>\n",
       "      <td>21.0</td>\n",
       "    </tr>\n",
       "  </tbody>\n",
       "</table>\n",
       "</div>"
      ],
      "text/plain": [
       "           goal  state  blurb_length\n",
       "141967   1500.0      1          11.0\n",
       "212874   6500.0      0          13.0\n",
       "164730   8000.0      1          15.0\n",
       "175347   2500.0      1          20.0\n",
       "234977  40000.0      0          21.0"
      ]
     },
     "execution_count": 18,
     "metadata": {},
     "output_type": "execute_result"
    }
   ],
   "source": [
    "# Merge one-hot encoded features and drop the originals\n",
    "df = df.merge(encode_df,left_index=True, right_index=True)\n",
    "df = df.drop(df_object,1)\n",
    "df.head()"
   ]
  },
  {
   "cell_type": "code",
   "execution_count": 19,
   "metadata": {},
   "outputs": [],
   "source": [
    "# Split our preprocessed data into our features and target arrays\n",
    "y = df[\"state\"].values\n",
    "X = df.drop([\"state\"],1).values\n",
    "\n",
    "\n",
    "# Split the preprocessed data into a training and testing dataset\n",
    "X_train, X_test, y_train, y_test = train_test_split(X, y, random_state=78)"
   ]
  },
  {
   "cell_type": "code",
   "execution_count": 20,
   "metadata": {},
   "outputs": [],
   "source": [
    "# Preprocess numerical data for neural network\n",
    "\n",
    "# Create a StandardScaler instance\n",
    "scaler = StandardScaler()\n",
    "\n",
    "# Fit the StandardScaler\n",
    "X_scaler = scaler.fit(X_train)\n",
    "\n",
    "# Scale the data\n",
    "X_train_scaled = X_scaler.transform(X_train)\n",
    "X_test_scaled = X_scaler.transform(X_test)"
   ]
  },
  {
   "cell_type": "code",
   "execution_count": 21,
   "metadata": {},
   "outputs": [
    {
     "data": {
      "text/plain": [
       "2"
      ]
     },
     "execution_count": 21,
     "metadata": {},
     "output_type": "execute_result"
    }
   ],
   "source": [
    "len(X_train_scaled[0])"
   ]
  },
  {
   "cell_type": "code",
   "execution_count": 22,
   "metadata": {},
   "outputs": [
    {
     "name": "stdout",
     "output_type": "stream",
     "text": [
      "Epoch 1/50\n",
      "575/575 [==============================] - 0s 540us/step - loss: 0.6894 - accuracy: 0.5895\n",
      "Epoch 2/50\n",
      "575/575 [==============================] - 0s 544us/step - loss: 0.6762 - accuracy: 0.5916\n",
      "Epoch 3/50\n",
      "575/575 [==============================] - 0s 517us/step - loss: 0.6690 - accuracy: 0.6012\n",
      "Epoch 4/50\n",
      "575/575 [==============================] - 0s 514us/step - loss: 0.6642 - accuracy: 0.6112\n",
      "Epoch 5/50\n",
      "575/575 [==============================] - 0s 503us/step - loss: 0.6608 - accuracy: 0.6168\n",
      "Epoch 6/50\n",
      "575/575 [==============================] - 0s 513us/step - loss: 0.6579 - accuracy: 0.6216\n",
      "Epoch 7/50\n",
      "575/575 [==============================] - 0s 503us/step - loss: 0.6555 - accuracy: 0.6240\n",
      "Epoch 8/50\n",
      "575/575 [==============================] - 0s 501us/step - loss: 0.6540 - accuracy: 0.6261\n",
      "Epoch 9/50\n",
      "575/575 [==============================] - 0s 511us/step - loss: 0.6526 - accuracy: 0.6282\n",
      "Epoch 10/50\n",
      "575/575 [==============================] - 0s 501us/step - loss: 0.6515 - accuracy: 0.6292\n",
      "Epoch 11/50\n",
      "575/575 [==============================] - 0s 505us/step - loss: 0.6508 - accuracy: 0.6303\n",
      "Epoch 12/50\n",
      "575/575 [==============================] - 0s 512us/step - loss: 0.6501 - accuracy: 0.6311\n",
      "Epoch 13/50\n",
      "575/575 [==============================] - 0s 509us/step - loss: 0.6496 - accuracy: 0.6330\n",
      "Epoch 14/50\n",
      "575/575 [==============================] - 0s 519us/step - loss: 0.6495 - accuracy: 0.6332\n",
      "Epoch 15/50\n",
      "575/575 [==============================] - 0s 518us/step - loss: 0.6494 - accuracy: 0.6351\n",
      "Epoch 16/50\n",
      "575/575 [==============================] - 0s 516us/step - loss: 0.6491 - accuracy: 0.6342\n",
      "Epoch 17/50\n",
      "575/575 [==============================] - 0s 523us/step - loss: 0.6489 - accuracy: 0.6335\n",
      "Epoch 18/50\n",
      "575/575 [==============================] - 0s 506us/step - loss: 0.6488 - accuracy: 0.6341\n",
      "Epoch 19/50\n",
      "575/575 [==============================] - 0s 518us/step - loss: 0.6488 - accuracy: 0.6365\n",
      "Epoch 20/50\n",
      "575/575 [==============================] - 0s 521us/step - loss: 0.6484 - accuracy: 0.6358\n",
      "Epoch 21/50\n",
      "575/575 [==============================] - 0s 513us/step - loss: 0.6485 - accuracy: 0.6361\n",
      "Epoch 22/50\n",
      "575/575 [==============================] - 0s 502us/step - loss: 0.6481 - accuracy: 0.6343\n",
      "Epoch 23/50\n",
      "575/575 [==============================] - 0s 502us/step - loss: 0.6482 - accuracy: 0.6361\n",
      "Epoch 24/50\n",
      "575/575 [==============================] - 0s 505us/step - loss: 0.6478 - accuracy: 0.6356\n",
      "Epoch 25/50\n",
      "575/575 [==============================] - 0s 538us/step - loss: 0.6481 - accuracy: 0.6363\n",
      "Epoch 26/50\n",
      "575/575 [==============================] - 0s 595us/step - loss: 0.6482 - accuracy: 0.6349\n",
      "Epoch 27/50\n",
      "575/575 [==============================] - 0s 547us/step - loss: 0.6479 - accuracy: 0.6372\n",
      "Epoch 28/50\n",
      "575/575 [==============================] - 0s 502us/step - loss: 0.6480 - accuracy: 0.6360\n",
      "Epoch 29/50\n",
      "575/575 [==============================] - 0s 598us/step - loss: 0.6477 - accuracy: 0.6357\n",
      "Epoch 30/50\n",
      "575/575 [==============================] - 0s 502us/step - loss: 0.6478 - accuracy: 0.6350\n",
      "Epoch 31/50\n",
      "575/575 [==============================] - 0s 503us/step - loss: 0.6478 - accuracy: 0.6361\n",
      "Epoch 32/50\n",
      "575/575 [==============================] - 0s 508us/step - loss: 0.6475 - accuracy: 0.6354\n",
      "Epoch 33/50\n",
      "575/575 [==============================] - 0s 507us/step - loss: 0.6474 - accuracy: 0.6363\n",
      "Epoch 34/50\n",
      "575/575 [==============================] - 0s 501us/step - loss: 0.6473 - accuracy: 0.6377\n",
      "Epoch 35/50\n",
      "575/575 [==============================] - 0s 508us/step - loss: 0.6475 - accuracy: 0.6373\n",
      "Epoch 36/50\n",
      "575/575 [==============================] - 0s 508us/step - loss: 0.6475 - accuracy: 0.6366\n",
      "Epoch 37/50\n",
      "575/575 [==============================] - 0s 502us/step - loss: 0.6473 - accuracy: 0.6366\n",
      "Epoch 38/50\n",
      "575/575 [==============================] - 0s 572us/step - loss: 0.6471 - accuracy: 0.6363\n",
      "Epoch 39/50\n",
      "575/575 [==============================] - 0s 547us/step - loss: 0.6473 - accuracy: 0.6357\n",
      "Epoch 40/50\n",
      "575/575 [==============================] - 0s 590us/step - loss: 0.6472 - accuracy: 0.6355\n",
      "Epoch 41/50\n",
      "575/575 [==============================] - 0s 511us/step - loss: 0.6471 - accuracy: 0.6350\n",
      "Epoch 42/50\n",
      "575/575 [==============================] - 0s 528us/step - loss: 0.6470 - accuracy: 0.6376\n",
      "Epoch 43/50\n",
      "575/575 [==============================] - 0s 509us/step - loss: 0.6470 - accuracy: 0.6353\n",
      "Epoch 44/50\n",
      "575/575 [==============================] - 0s 509us/step - loss: 0.6472 - accuracy: 0.6369\n",
      "Epoch 45/50\n",
      "575/575 [==============================] - 0s 500us/step - loss: 0.6472 - accuracy: 0.6369\n",
      "Epoch 46/50\n",
      "575/575 [==============================] - 0s 511us/step - loss: 0.6470 - accuracy: 0.6349\n",
      "Epoch 47/50\n",
      "575/575 [==============================] - 0s 504us/step - loss: 0.6471 - accuracy: 0.6371\n",
      "Epoch 48/50\n",
      "575/575 [==============================] - 0s 503us/step - loss: 0.6469 - accuracy: 0.6363\n",
      "Epoch 49/50\n",
      "575/575 [==============================] - 0s 513us/step - loss: 0.6471 - accuracy: 0.6361\n",
      "Epoch 50/50\n",
      "575/575 [==============================] - 0s 502us/step - loss: 0.6471 - accuracy: 0.6370\n"
     ]
    }
   ],
   "source": [
    "# Define the model - deep neural net\n",
    "#inputs = 40\n",
    "#layer one = 80 (2x inputs)\n",
    "#layer two = 12\n",
    "number_input_features = len(X_train_scaled[0])\n",
    "hidden_nodes_layer1 =  number_input_features*2\n",
    "hidden_nodes_layer2 = number_input_features*2\n",
    "\n",
    "nn = tf.keras.models.Sequential()\n",
    "\n",
    "# First hidden layer\n",
    "nn.add(\n",
    "    tf.keras.layers.Dense(units=hidden_nodes_layer1, input_dim=number_input_features, activation=\"relu\")\n",
    ")\n",
    "\n",
    "# Second hidden layer\n",
    "nn.add(tf.keras.layers.Dense(units=hidden_nodes_layer2, activation=\"relu\"))\n",
    "\n",
    "\n",
    "# Output layer\n",
    "nn.add(tf.keras.layers.Dense(units=1, activation=\"sigmoid\"))\n",
    "\n",
    "# Compile the Sequential model together and customize metrics\n",
    "nn.compile(loss=\"binary_crossentropy\", optimizer=\"adam\", metrics=[\"accuracy\"])\n",
    "\n",
    "# Train the model\n",
    "fit_model = nn.fit(X_train_scaled, y_train, epochs=50)"
   ]
  },
  {
   "cell_type": "code",
   "execution_count": 23,
   "metadata": {},
   "outputs": [
    {
     "name": "stdout",
     "output_type": "stream",
     "text": [
      "192/192 - 0s - loss: 0.6495 - accuracy: 0.6317\n",
      "Loss: 0.6494503021240234, Accuracy: 0.6317077279090881\n"
     ]
    }
   ],
   "source": [
    "# Evaluate the model using the test data\n",
    "model_loss, model_accuracy = nn.evaluate(X_test_scaled,y_test,verbose=2)\n",
    "print(f\"Loss: {model_loss}, Accuracy: {model_accuracy}\")"
   ]
  },
  {
   "cell_type": "code",
   "execution_count": 24,
   "metadata": {},
   "outputs": [
    {
     "data": {
      "text/plain": [
       "<matplotlib.axes._subplots.AxesSubplot at 0x7ffd0d966d60>"
      ]
     },
     "execution_count": 24,
     "metadata": {},
     "output_type": "execute_result"
    },
    {
     "data": {
      "image/png": "[encoded data removed]",
      "text/plain": [
       "<Figure size 432x288 with 1 Axes>"
      ]
     },
     "metadata": {
      "needs_background": "light"
     },
     "output_type": "display_data"
    }
   ],
   "source": [
    "# Create a DataFrame containing training history\n",
    "history_df = pd.DataFrame(fit_model.history, index=range(1,len(fit_model.history[\"loss\"])+1))\n",
    "\n",
    "# Plot the loss\n",
    "history_df.plot(y=\"loss\")"
   ]
  },
  {
   "cell_type": "code",
   "execution_count": 25,
   "metadata": {},
   "outputs": [
    {
     "data": {
      "text/plain": [
       "<matplotlib.axes._subplots.AxesSubplot at 0x7ffd0db75d30>"
      ]
     },
     "execution_count": 25,
     "metadata": {},
     "output_type": "execute_result"
    },
    {
     "data": {
      "image/png": "[encoded data removed]",
      "text/plain": [
       "<Figure size 432x288 with 1 Axes>"
      ]
     },
     "metadata": {
      "needs_background": "light"
     },
     "output_type": "display_data"
    }
   ],
   "source": [
    "# Plot the loss\n",
    "history_df.plot(y=\"accuracy\")"
   ]
  },
  {
   "cell_type": "code",
   "execution_count": 26,
   "metadata": {},
   "outputs": [
    {
     "name": "stdout",
     "output_type": "stream",
     "text": [
      " Logistic regression model accuracy: 0.619\n"
     ]
    }
   ],
   "source": [
    "# Define the logistic regression model\n",
    "log_classifier = LogisticRegression(solver=\"lbfgs\",max_iter=200)\n",
    "\n",
    "# Train the model\n",
    "log_classifier.fit(X_train,y_train)\n",
    "\n",
    "# Evaluate the model\n",
    "y_pred = log_classifier.predict(X_test)\n",
    "print(f\" Logistic regression model accuracy: {accuracy_score(y_test,y_pred):.3f}\")"
   ]
  },
  {
   "cell_type": "code",
   "execution_count": 27,
   "metadata": {},
   "outputs": [
    {
     "name": "stdout",
     "output_type": "stream",
     "text": [
      " Random forest predictive accuracy: 0.630\n"
     ]
    }
   ],
   "source": [
    "# Create a random forest classifier.\n",
    "rf_model = RandomForestClassifier(n_estimators=100, random_state=78, max_features=\"auto\", min_samples_leaf=50)\n",
    "\n",
    "# Fitting the model\n",
    "rf_model = rf_model.fit(X_train_scaled, y_train)\n",
    "\n",
    "# Evaluate the model\n",
    "y_pred = rf_model.predict(X_test_scaled)\n",
    "print(f\" Random forest predictive accuracy: {accuracy_score(y_test,y_pred):.3f}\")"
   ]
  },
  {
   "cell_type": "code",
   "execution_count": 28,
   "metadata": {},
   "outputs": [
    {
     "name": "stdout",
     "output_type": "stream",
     "text": [
      "Feature: 0, Score: 0.84754\n",
      "Feature: 1, Score: 0.15246\n"
     ]
    },
    {
     "data": {
      "image/png": "[encoded data removed]",
      "text/plain": [
       "<Figure size 432x288 with 1 Axes>"
      ]
     },
     "metadata": {
      "needs_background": "light"
     },
     "output_type": "display_data"
    }
   ],
   "source": [
    "# get importance\n",
    "importance = rf_model.feature_importances_\n",
    "# summarize feature importance\n",
    "for i,v in enumerate(importance):\n",
    "\tprint('Feature: %0d, Score: %.5f' % (i,v))\n",
    "# plot feature importance\n",
    "pyplot.bar([x for x in range(len(importance))], importance)\n",
    "pyplot.show()"
   ]
  },
  {
   "cell_type": "code",
   "execution_count": 36,
   "metadata": {},
   "outputs": [],
   "source": [
    "import pickle\n",
    "pickle.dump(rf_model, open(\"model.pkl\",\"wb\"))"
   ]
  },
  {
   "cell_type": "code",
   "execution_count": 37,
   "metadata": {},
   "outputs": [],
   "source": [
    "model = pickle.load(open(\"model.pkl\",\"rb\"))"
   ]
  },
  {
   "cell_type": "code",
   "execution_count": null,
   "metadata": {},
   "outputs": [],
   "source": []
  }
 ],
 "metadata": {
  "kernelspec": {
   "display_name": "Python 3",
   "language": "python",
   "name": "python3"
  },
  "language_info": {
   "codemirror_mode": {
    "name": "ipython",
    "version": 3
   },
   "file_extension": ".py",
   "mimetype": "text/x-python",
   "name": "python",
   "nbconvert_exporter": "python",
   "pygments_lexer": "ipython3",
   "version": "3.8.3"
  }
 },
 "nbformat": 4,
 "nbformat_minor": 4
}
